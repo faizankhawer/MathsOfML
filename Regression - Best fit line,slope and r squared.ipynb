{
 "cells": [
  {
   "cell_type": "markdown",
   "metadata": {},
   "source": [
    "# Maths Of Regression"
   ]
  },
  {
   "cell_type": "markdown",
   "metadata": {},
   "source": [
    "### Finding Best Fit Line and Slope"
   ]
  },
  {
   "cell_type": "code",
   "execution_count": 1,
   "metadata": {},
   "outputs": [
    {
     "name": "stdout",
     "output_type": "stream",
     "text": [
      "0.6285714285714289 1.4666666666666655\n",
      "[2.0952381  2.72380952 3.35238095 3.98095238 4.60952381 5.23809524]\n"
     ]
    },
    {
     "data": {
      "image/png": "[encoded data removed]",
      "text/plain": [
       "<Figure size 432x288 with 1 Axes>"
      ]
     },
     "metadata": {},
     "output_type": "display_data"
    }
   ],
   "source": [
    "from statistics import mean\n",
    "import numpy as np\n",
    "import matplotlib.pyplot as plt\n",
    "%matplotlib inline\n",
    "X = np.array([1,2,3,4,5,6], dtype = np.float64)\n",
    "Y = np.array([3,1,5,4,2,7], dtype = np.float64)\n",
    "\n",
    "# Lets define m = slope, b = y-intercept\n",
    "def find_slope_intercept(xs,ys):\n",
    "    m = ( (mean(X)*mean(Y))-mean(X*Y))/((mean(X)**2-(mean(X*X))))\n",
    "    b = mean(Y)-m*mean(X)\n",
    "    return m,b\n",
    "m,b = find_slope_intercept(X,Y)\n",
    "print(m,b)\n",
    "\n",
    "#Lets define the regression line y\n",
    "regression_line_y = m*X+b\n",
    "print(regression_line_y)\n",
    "\n",
    "from matplotlib import style\n",
    "style.use('fivethirtyeight')\n",
    "plt.scatter(X,Y)\n",
    "plt.plot(regression_line_y,X)\n",
    "plt.show()"
   ]
  },
  {
   "cell_type": "markdown",
   "metadata": {},
   "source": [
    "## Calculating R squarred "
   ]
  },
  {
   "cell_type": "code",
   "execution_count": 10,
   "metadata": {},
   "outputs": [
    {
     "name": "stdout",
     "output_type": "stream",
     "text": [
      "Squared error of line:  16.419047619047618\n",
      "Squared error of mean line: 23.333333333333336\n",
      "Residual Sum of Error is:  0.703673469387755\n",
      "Coefficient of determination (R squared) is:  0.296326530612245\n"
     ]
    }
   ],
   "source": [
    "SEy_hat = 0\n",
    "SEy_mean = 0\n",
    "for i in range(len(Y)):    \n",
    "    SEy_hat += (Y[i]-(m*X[i]+b))**2\n",
    "    SEy_mean += (Y[i]-mean(Y))**2\n",
    "    \n",
    "print(\"Squared error of line: \", SEy_hat)\n",
    "print(\"Squared error of mean line:\", SEy_mean)    \n",
    "\n",
    "RSE = SEy_hat/SEy_mean\n",
    "print(\"Residual Sum of Error is: \", RSE)\n",
    "r_squarred = 1 - RSE\n",
    "print(\"Coefficient of determination (R squared) is: \",r_squarred)"
   ]
  },
  {
   "cell_type": "code",
   "execution_count": null,
   "metadata": {},
   "outputs": [],
   "source": []
  }
 ],
 "metadata": {
  "kernelspec": {
   "display_name": "Python 3",
   "language": "python",
   "name": "python3"
  },
  "language_info": {
   "codemirror_mode": {
    "name": "ipython",
    "version": 3
   },
   "file_extension": ".py",
   "mimetype": "text/x-python",
   "name": "python",
   "nbconvert_exporter": "python",
   "pygments_lexer": "ipython3",
   "version": "3.7.1"
  }
 },
 "nbformat": 4,
 "nbformat_minor": 2
}
